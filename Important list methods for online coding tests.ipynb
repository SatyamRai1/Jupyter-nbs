{
 "cells": [
  {
   "cell_type": "markdown",
   "id": "5233d89b",
   "metadata": {},
   "source": [
    "# In this notebook, I'm gonna reate and use some useful list methods which can be used to solve easy programing test problems. "
   ]
  },
  {
   "cell_type": "markdown",
   "id": "a3a66088",
   "metadata": {},
   "source": [
    "## 1. Some useful list methods"
   ]
  },
  {
   "cell_type": "markdown",
   "id": "3f815d69",
   "metadata": {},
   "source": [
    "### A) insert()"
   ]
  },
  {
   "cell_type": "markdown",
   "id": "febbcdc5",
   "metadata": {},
   "source": [
    "Syntax-  list.insert(position, item)\n",
    "\n",
    "The insert() method contains two arguments. The first argument takes the position value where the new item will be inserted. The second argument takes the new item value."
   ]
  },
  {
   "cell_type": "code",
   "execution_count": 2,
   "id": "19da9646",
   "metadata": {},
   "outputs": [
    {
     "name": "stdout",
     "output_type": "stream",
     "text": [
      "['HDD', 'motherboard', 'Printer', 'Scanner', 'Mouse', 'Keyboard', 'RAM']\n"
     ]
    }
   ],
   "source": [
    "Listdata = ['HDD', 'motherboard', 'Printer', 'Scanner', 'Mouse', 'Keyboard','RAM']\n",
    "print(Listdata)"
   ]
  },
  {
   "cell_type": "code",
   "execution_count": 3,
   "id": "03de3599",
   "metadata": {},
   "outputs": [
    {
     "name": "stdout",
     "output_type": "stream",
     "text": [
      "['HDD', 'Processor', 'motherboard', 'Printer', 'Scanner', 'Mouse', 'Keyboard', 'RAM']\n"
     ]
    }
   ],
   "source": [
    "Listdata.insert(1,\"Processor\")\n",
    "print(Listdata)"
   ]
  },
  {
   "cell_type": "markdown",
   "id": "104f6698",
   "metadata": {},
   "source": [
    "### B) append()\n"
   ]
  },
  {
   "cell_type": "markdown",
   "id": "fa163e4c",
   "metadata": {},
   "source": [
    "Syntax-  list.append(item)"
   ]
  },
  {
   "cell_type": "markdown",
   "id": "31686957",
   "metadata": {},
   "source": [
    "This method takes the new value as an argument that will be inserted at the end of the list. Useful when you want to insert a value at the end of a list and you don't know the length of the list."
   ]
  },
  {
   "cell_type": "code",
   "execution_count": 5,
   "id": "bde0c383",
   "metadata": {},
   "outputs": [
    {
     "name": "stdout",
     "output_type": "stream",
     "text": [
      "['Mir Subbir', 'CSE', 46, 9]\n"
     ]
    }
   ],
   "source": [
    "stdList = ['Mir Subbir', 'CSE', 46, 9]\n",
    "print(stdList)"
   ]
  },
  {
   "cell_type": "code",
   "execution_count": 7,
   "id": "6dae5b8b",
   "metadata": {},
   "outputs": [
    {
     "name": "stdout",
     "output_type": "stream",
     "text": [
      "['Mir Subbir', 'CSE', 46, 9, 3.85]\n"
     ]
    }
   ],
   "source": [
    "stdList.append(3.85)\n",
    "print(stdList)"
   ]
  },
  {
   "cell_type": "markdown",
   "id": "71a0321d",
   "metadata": {},
   "source": [
    "### C) remove()"
   ]
  },
  {
   "cell_type": "markdown",
   "id": "ea5283b4",
   "metadata": {},
   "source": [
    "Syntax-  list.remove(item)"
   ]
  },
  {
   "cell_type": "markdown",
   "id": "c56874c8",
   "metadata": {},
   "source": [
    "This method takes the item value as an argument that will be removed from the list, if it exists. If the item value does not exist in the list, then a ValueError will be generated. Note- This method is case sensitive."
   ]
  },
  {
   "cell_type": "markdown",
   "id": "71a50bb2",
   "metadata": {},
   "source": [
    "Q. A list of 6 string values is defined in the following script. Next, a string value will be taken as the input to be searched for and removed from the list. The capitalize() method is used in the script to match the input value with the list item, where the first character of each item is capitalized. The list will be printed before and after removing the item from the list. The try-except block is used, here, to handle the ValueError response.\n",
    "\n"
   ]
  },
  {
   "cell_type": "code",
   "execution_count": 19,
   "id": "c2492abd",
   "metadata": {},
   "outputs": [
    {
     "name": "stdout",
     "output_type": "stream",
     "text": [
      "List before remove\n",
      "['Mango', 'Banana', 'Orange', 'Grape', 'Guava', 'Watermelon']\n",
      "Enter the fruit name to remove:apple\n",
      "Item does not exist in the list\n"
     ]
    }
   ],
   "source": [
    "# Define a list of fruit names\n",
    "listdata2 = ['Mango', 'Banana', 'Orange', 'Grape', 'Guava', 'Watermelon']\n",
    "# Print the list\n",
    "print(\"List before remove\")\n",
    "print(listdata2)\n",
    "remove_item = input(\"Enter the fruit name to remove:\")\n",
    "try:\n",
    "    # Remove a item from the list if exist\n",
    "    listdata2.remove(remove_item.capitalize())\n",
    "    # Print the list after remove\n",
    "    print(\"List after remove\")\n",
    "    print(listdata2)\n",
    "  \n",
    "except ValueError:\n",
    "    print(\"Item does not exist in the list\")"
   ]
  },
  {
   "cell_type": "markdown",
   "id": "0a2b9fc7",
   "metadata": {},
   "source": [
    "### D) extend()"
   ]
  },
  {
   "cell_type": "markdown",
   "id": "82b2398f",
   "metadata": {},
   "source": [
    "Syntax- first_list.extend(second_list)"
   ]
  },
  {
   "cell_type": "markdown",
   "id": "a11c4b1c",
   "metadata": {},
   "source": [
    "This method takes the second list as the argument and adds the values of the second list at the end of the first list."
   ]
  },
  {
   "cell_type": "code",
   "execution_count": 20,
   "id": "856db1fc",
   "metadata": {},
   "outputs": [
    {
     "name": "stdout",
     "output_type": "stream",
     "text": [
      "['John', 'Ella', 'Micheal', 'Watson', 'Abir', 'Nahar', 'Zafar']\n"
     ]
    }
   ],
   "source": [
    "# Define two list of client names\n",
    "clientList1 = ['John','Ella','Micheal','Watson']\n",
    "clientList2 = ['Abir','Nahar','Zafar']\n",
    " \n",
    " \n",
    "# Insert the items of the second at the end of first list\n",
    "clientList1.extend(clientList2)\n",
    "# Print the first list after extend\n",
    "print(clientList1)"
   ]
  },
  {
   "cell_type": "markdown",
   "id": "961d514b",
   "metadata": {},
   "source": [
    "### E) count()"
   ]
  },
  {
   "cell_type": "markdown",
   "id": "040ee9c5",
   "metadata": {},
   "source": [
    "Syntax- list.count(item)"
   ]
  },
  {
   "cell_type": "markdown",
   "id": "5b634515",
   "metadata": {},
   "source": [
    "This method takes the item value as an argument that will be searched for in the list and returns the number of the appearances of the item in the list as a numerical value. If the item value does not exist in the list, then it will return with the value 0."
   ]
  },
  {
   "cell_type": "code",
   "execution_count": 22,
   "id": "2c72b731",
   "metadata": {},
   "outputs": [
    {
     "name": "stdout",
     "output_type": "stream",
     "text": [
      "The list content:\n",
      " [12, 23, 5, 27, 45, 5, 56, 6, 65]\n",
      "Enter any number to search:5\n",
      "The 5 appears 2 times in the list\n"
     ]
    }
   ],
   "source": [
    "# Define a list of numbers\n",
    "listdata3 = [12, 23, 5, 27, 45, 5, 56, 6, 65]\n",
    "# Print the list\n",
    "print(\"The list content:\\n\", listdata3)\n",
    "# Take any numeric data\n",
    "search_item = int(input(\"Enter any number to search:\"))\n",
    "print(\"The %d appears %d times in the list\" %(search_item,listdata3.count(search_item)))"
   ]
  },
  {
   "cell_type": "markdown",
   "id": "543ad20f",
   "metadata": {},
   "source": [
    "### F) index()"
   ]
  },
  {
   "cell_type": "markdown",
   "id": "46995a02",
   "metadata": {},
   "source": [
    "Syntax- list.index(search_item)"
   ]
  },
  {
   "cell_type": "markdown",
   "id": "c26e98d6",
   "metadata": {},
   "source": [
    "This method takes the search item value as the input and returns with the position value of the item in the list, if it exists; otherwise, it generates a ValueError."
   ]
  },
  {
   "cell_type": "code",
   "execution_count": 23,
   "id": "89d8d910",
   "metadata": {},
   "outputs": [
    {
     "name": "stdout",
     "output_type": "stream",
     "text": [
      "The list content:\n",
      " ['John', 'Ella', 'Micheal', 'Watson', 'Meher']\n",
      "Enter any name to search:john\n",
      "The john is found at position 1 in the list\n"
     ]
    }
   ],
   "source": [
    "# Define a list of numbers\n",
    "listdata =  ['John','Ella','Micheal','Watson','Meher']\n",
    "# Print the list\n",
    "print(\"The list content:\\n\", listdata)\n",
    "# Take any numeric data\n",
    "search_item = input(\"Enter any name to search:\")\n",
    "try:\n",
    "    print(\"The %s is found at position %d in the list\"\n",
    "  %(search_item,listdata.index(search_item.capitalize())+1))\n",
    "except ValueError:\n",
    "    print(\"The item does not exist in the list.\")"
   ]
  },
  {
   "cell_type": "markdown",
   "id": "600590f6",
   "metadata": {},
   "source": [
    "### G) copy()"
   ]
  },
  {
   "cell_type": "markdown",
   "id": "768021dd",
   "metadata": {},
   "source": [
    "Syntax- list.copy()"
   ]
  },
  {
   "cell_type": "markdown",
   "id": "0cfb97d7",
   "metadata": {},
   "source": [
    "The copy() method is used to make a copy of a list. This method is useful for keeping original list values before modifying the list. Note- This method does not take any argument as input."
   ]
  },
  {
   "cell_type": "markdown",
   "id": "b9c7d1c4",
   "metadata": {},
   "source": [
    "### H) sort()"
   ]
  },
  {
   "cell_type": "markdown",
   "id": "c5e607db",
   "metadata": {},
   "source": [
    "list.sort()\n"
   ]
  },
  {
   "cell_type": "markdown",
   "id": "a35f3587",
   "metadata": {},
   "source": [
    "The sort() method is used to sort list data. This method is useful when you are working with the same type of list data and you need to organize the data for any programming purpose. Note- This method does not take any argument and it returns the sorted list data in ascending order."
   ]
  },
  {
   "cell_type": "code",
   "execution_count": 24,
   "id": "84fe548e",
   "metadata": {},
   "outputs": [
    {
     "name": "stdout",
     "output_type": "stream",
     "text": [
      "The list before sort:\n",
      " [12, 23, 27, 45, 5, 56, 6, 65]\n",
      "The list after sort:\n",
      " [5, 6, 12, 23, 27, 45, 56, 65]\n"
     ]
    }
   ],
   "source": [
    "# Define a list of numbers\n",
    "listdata = [12, 23, 27, 45, 5, 56, 6, 65]\n",
    "# Print the list\n",
    "print(\"The list before sort:\\n\", listdata)\n",
    " \n",
    "# Sort the list\n",
    "listdata.sort()\n",
    "# Print the list after sort\n",
    "print(\"The list after sort:\\n\", listdata)"
   ]
  },
  {
   "cell_type": "markdown",
   "id": "e97cbfad",
   "metadata": {},
   "source": [
    "### I) reverse()"
   ]
  },
  {
   "cell_type": "markdown",
   "id": "f780ecb7",
   "metadata": {},
   "source": [
    "Syntax- list.reverse()"
   ]
  },
  {
   "cell_type": "markdown",
   "id": "68a8ec89",
   "metadata": {},
   "source": [
    "This method does not take any argument and it returns the list items in reverse order."
   ]
  },
  {
   "cell_type": "code",
   "execution_count": 26,
   "id": "31513d24",
   "metadata": {},
   "outputs": [
    {
     "name": "stdout",
     "output_type": "stream",
     "text": [
      "The list before sort:\n",
      " [120, 4, 78, 5, 50, 21, 56, 9]\n",
      "The list after sort and reverse:\n",
      " [120, 78, 56, 50, 21, 9, 5, 4]\n"
     ]
    }
   ],
   "source": [
    " \n",
    "# Define a list of numbers\n",
    "listdata = [120, 4, 78, 5, 50, 21, 56, 9]\n",
    "# Print the list\n",
    "print(\"The list before sort:\\n\", listdata)\n",
    " \n",
    "# Sort the list\n",
    "listdata.sort()\n",
    "# Reverse the list\n",
    "listdata.reverse()\n",
    " \n",
    "# Print the list in descending order\n",
    "print(\"The list after sort and reverse:\\n\", listdata)"
   ]
  },
  {
   "cell_type": "markdown",
   "id": "6371a2a2",
   "metadata": {},
   "source": [
    "### J) clear()"
   ]
  },
  {
   "cell_type": "markdown",
   "id": "d9920f22",
   "metadata": {},
   "source": [
    "Syntax- list.clear()"
   ]
  },
  {
   "cell_type": "markdown",
   "id": "07b36e59",
   "metadata": {},
   "source": [
    "This method does not take any argument as input and it returns an empty list."
   ]
  },
  {
   "cell_type": "code",
   "execution_count": 27,
   "id": "b7ab07eb",
   "metadata": {},
   "outputs": [
    {
     "name": "stdout",
     "output_type": "stream",
     "text": [
      "\n",
      "The list content:\n",
      " ['CSE', 'English', 'BBA', 'Pharmacy', 'Math']\n",
      "\n",
      "The list after clear:\n",
      " []\n"
     ]
    }
   ],
   "source": [
    "# Define a list\n",
    "deptList = ['CSE','English','BBA', 'Pharmacy','Math' ]\n",
    "# print the list\n",
    "print(\"\\nThe list content:\\n\", deptList)\n",
    " \n",
    "# Clear the list\n",
    "deptList.clear()\n",
    "# print the list after clear\n",
    "print(\"\\nThe list after clear:\\n\", deptList)"
   ]
  },
  {
   "cell_type": "markdown",
   "id": "79e5d884",
   "metadata": {},
   "source": [
    "### K) len()"
   ]
  },
  {
   "cell_type": "markdown",
   "id": "c2cb3c40",
   "metadata": {},
   "source": [
    "Syntax- len(object)"
   ]
  },
  {
   "cell_type": "markdown",
   "id": "2ea5c497",
   "metadata": {},
   "source": [
    "The len() function returns the number of items in an object."
   ]
  },
  {
   "cell_type": "code",
   "execution_count": 29,
   "id": "56bb4a29",
   "metadata": {},
   "outputs": [
    {
     "name": "stdout",
     "output_type": "stream",
     "text": [
      "3\n"
     ]
    }
   ],
   "source": [
    "mylist = [\"apple\", \"banana\", \"cherry\"]\n",
    "x = len(mylist)\n",
    "print(x)"
   ]
  },
  {
   "cell_type": "code",
   "execution_count": null,
   "id": "f318703d",
   "metadata": {},
   "outputs": [],
   "source": []
  }
 ],
 "metadata": {
  "kernelspec": {
   "display_name": "Python 3",
   "language": "python",
   "name": "python3"
  },
  "language_info": {
   "codemirror_mode": {
    "name": "ipython",
    "version": 3
   },
   "file_extension": ".py",
   "mimetype": "text/x-python",
   "name": "python",
   "nbconvert_exporter": "python",
   "pygments_lexer": "ipython3",
   "version": "3.8.8"
  }
 },
 "nbformat": 4,
 "nbformat_minor": 5
}
